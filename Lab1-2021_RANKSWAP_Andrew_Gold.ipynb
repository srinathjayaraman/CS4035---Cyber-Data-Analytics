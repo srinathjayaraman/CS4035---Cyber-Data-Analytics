{
 "cells": [
  {
   "cell_type": "markdown",
   "metadata": {
    "cell_id": "00000-8d3ae578-6259-4f17-b19d-d601ee5dc1b4",
    "deepnote_cell_type": "markdown"
   },
   "source": [
    "# CS4035 - Cyber Data Analytics\n",
    "## Lab 1 - Fraud data"
   ]
  },
  {
   "cell_type": "markdown",
   "metadata": {
    "cell_id": "00001-9cec335b-20b4-40ee-87e7-ced19c3fb55f",
    "deepnote_cell_type": "markdown"
   },
   "source": [
    "### Submit on brightspace (zip file with the name Group_xx.zip)"
   ]
  },
  {
   "cell_type": "code",
   "execution_count": 34,
   "metadata": {
    "cell_id": "00002-ff581a9b-ba1f-410d-a00a-bd2b407b5c21",
    "deepnote_cell_type": "code",
    "deepnote_to_be_reexecuted": false,
    "execution_millis": 138,
    "execution_start": 1620667387179,
    "source_hash": "d59c525"
   },
   "outputs": [
    {
     "name": "stdout",
     "output_type": "stream",
     "text": [
      "Word count: 746\n"
     ]
    }
   ],
   "source": [
    "# If this cell does not work try running `pip install nbformat`\n",
    "\n",
    "import io\n",
    "from IPython import nbformat\n",
    "\n",
    "nb = nbformat.read(\"Lab1-2021_RANKSWAP_Andrew_Gold.ipynb\", nbformat.NO_CONVERT)\n",
    "word_count = 0\n",
    "for cell in nb.cells:\n",
    "    if cell.cell_type == \"markdown\":\n",
    "        word_count += len(cell['source'].replace('#', '').lstrip().split(' '))\n",
    "\n",
    "print(\"Word count:\", word_count)"
   ]
  },
  {
   "cell_type": "code",
   "execution_count": 35,
   "metadata": {
    "cell_id": "00003-fa683459-84bd-462f-a1c0-75c539de25b9",
    "deepnote_cell_type": "code",
    "deepnote_to_be_reexecuted": false,
    "execution_millis": 1240,
    "execution_start": 1620667387312,
    "source_hash": "9652f7d0",
    "tags": []
   },
   "outputs": [],
   "source": [
    "import numpy as np\n",
    "import pandas as pd\n",
    "import sklearn as sk\n",
    "import seaborn as sns\n",
    "import matplotlib as plt\n",
    "from collections import Counter\n",
    "import matplotlib.pyplot as plt\n",
    "import bisect\n",
    "import random\n",
    "import re\n",
    "\n",
    "from sklearn.preprocessing import LabelEncoder, StandardScaler, Normalizer, RobustScaler\n",
    "from sklearn.decomposition import PCA\n",
    "from sklearn.model_selection import train_test_split, cross_val_score, GridSearchCV, StratifiedKFold\n",
    "from sklearn.metrics import plot_roc_curve, precision_recall_fscore_support, confusion_matrix\n",
    "from sklearn.tree import DecisionTreeClassifier\n",
    "from sklearn.neural_network import MLPClassifier\n",
    "\n",
    "from sklearn.linear_model import SGDClassifier\n",
    "from sklearn.ensemble import AdaBoostClassifier \n",
    "from sklearn.ensemble import RandomForestClassifier\n",
    "\n",
    "from sklearn.neighbors import KNeighborsClassifier\n",
    "\n",
    "from imblearn.under_sampling import RandomUnderSampler\n",
    "from imblearn.over_sampling import SMOTE # I used this library, as Srinath was not able to finish his SMOTE implementation until 20 minutes before the deadline.\n",
    "\n",
    "import shap\n",
    "import datetime as dt\n",
    "import time\n",
    "import pytz"
   ]
  },
  {
   "cell_type": "code",
   "execution_count": 5,
   "metadata": {
    "cell_id": "00004-0b6001a8-efea-42ff-8a49-3195d7703ccc",
    "deepnote_cell_type": "code",
    "deepnote_to_be_reexecuted": false,
    "execution_millis": 430,
    "execution_start": 1620667388558,
    "source_hash": "b656aefc",
    "tags": []
   },
   "outputs": [
    {
     "data": {
      "text/html": [
       "<div>\n",
       "<style scoped>\n",
       "    .dataframe tbody tr th:only-of-type {\n",
       "        vertical-align: middle;\n",
       "    }\n",
       "\n",
       "    .dataframe tbody tr th {\n",
       "        vertical-align: top;\n",
       "    }\n",
       "\n",
       "    .dataframe thead th {\n",
       "        text-align: right;\n",
       "    }\n",
       "</style>\n",
       "<table border=\"1\" class=\"dataframe\">\n",
       "  <thead>\n",
       "    <tr style=\"text-align: right;\">\n",
       "      <th></th>\n",
       "      <th>txid</th>\n",
       "      <th>bookingdate</th>\n",
       "      <th>issuercountrycode</th>\n",
       "      <th>txvariantcode</th>\n",
       "      <th>bin</th>\n",
       "      <th>amount</th>\n",
       "      <th>currencycode</th>\n",
       "      <th>shoppercountrycode</th>\n",
       "      <th>shopperinteraction</th>\n",
       "      <th>simple_journal</th>\n",
       "      <th>cardverificationcodesupplied</th>\n",
       "      <th>cvcresponsecode</th>\n",
       "      <th>creationdate</th>\n",
       "      <th>accountcode</th>\n",
       "      <th>mail_id</th>\n",
       "      <th>ip_id</th>\n",
       "      <th>card_id</th>\n",
       "    </tr>\n",
       "  </thead>\n",
       "  <tbody>\n",
       "    <tr>\n",
       "      <th>0</th>\n",
       "      <td>1</td>\n",
       "      <td>2015-11-09 14:26:51</td>\n",
       "      <td>MX</td>\n",
       "      <td>mccredit</td>\n",
       "      <td>530056.0</td>\n",
       "      <td>64800.0</td>\n",
       "      <td>MXN</td>\n",
       "      <td>MX</td>\n",
       "      <td>Ecommerce</td>\n",
       "      <td>Chargeback</td>\n",
       "      <td>True</td>\n",
       "      <td>0</td>\n",
       "      <td>2015-07-01 23:03:11</td>\n",
       "      <td>MexicoAccount</td>\n",
       "      <td>email68370</td>\n",
       "      <td>ip111778</td>\n",
       "      <td>card184798</td>\n",
       "    </tr>\n",
       "    <tr>\n",
       "      <th>1</th>\n",
       "      <td>2</td>\n",
       "      <td>2015-11-09 14:27:38</td>\n",
       "      <td>MX</td>\n",
       "      <td>mccredit</td>\n",
       "      <td>547046.0</td>\n",
       "      <td>44900.0</td>\n",
       "      <td>MXN</td>\n",
       "      <td>MX</td>\n",
       "      <td>Ecommerce</td>\n",
       "      <td>Chargeback</td>\n",
       "      <td>True</td>\n",
       "      <td>0</td>\n",
       "      <td>2015-07-02 04:50:55</td>\n",
       "      <td>MexicoAccount</td>\n",
       "      <td>email101299</td>\n",
       "      <td>ip78749</td>\n",
       "      <td>card151595</td>\n",
       "    </tr>\n",
       "    <tr>\n",
       "      <th>2</th>\n",
       "      <td>3</td>\n",
       "      <td>2015-11-23 16:34:16</td>\n",
       "      <td>MX</td>\n",
       "      <td>mccredit</td>\n",
       "      <td>528843.0</td>\n",
       "      <td>149900.0</td>\n",
       "      <td>MXN</td>\n",
       "      <td>MX</td>\n",
       "      <td>Ecommerce</td>\n",
       "      <td>Chargeback</td>\n",
       "      <td>True</td>\n",
       "      <td>0</td>\n",
       "      <td>2015-07-02 14:30:28</td>\n",
       "      <td>MexicoAccount</td>\n",
       "      <td>email278604</td>\n",
       "      <td>ip70594</td>\n",
       "      <td>card242142</td>\n",
       "    </tr>\n",
       "    <tr>\n",
       "      <th>3</th>\n",
       "      <td>4</td>\n",
       "      <td>2015-11-23 16:34:51</td>\n",
       "      <td>MX</td>\n",
       "      <td>mccredit</td>\n",
       "      <td>547146.0</td>\n",
       "      <td>109900.0</td>\n",
       "      <td>MXN</td>\n",
       "      <td>MX</td>\n",
       "      <td>Ecommerce</td>\n",
       "      <td>Chargeback</td>\n",
       "      <td>True</td>\n",
       "      <td>0</td>\n",
       "      <td>2015-07-03 07:53:37</td>\n",
       "      <td>MexicoAccount</td>\n",
       "      <td>email47409</td>\n",
       "      <td>ip113648</td>\n",
       "      <td>card181744</td>\n",
       "    </tr>\n",
       "    <tr>\n",
       "      <th>4</th>\n",
       "      <td>5</td>\n",
       "      <td>2015-11-09 14:26:08</td>\n",
       "      <td>MX</td>\n",
       "      <td>visaclassic</td>\n",
       "      <td>477291.0</td>\n",
       "      <td>89900.0</td>\n",
       "      <td>MXN</td>\n",
       "      <td>MX</td>\n",
       "      <td>Ecommerce</td>\n",
       "      <td>Chargeback</td>\n",
       "      <td>True</td>\n",
       "      <td>0</td>\n",
       "      <td>2015-07-08 18:35:35</td>\n",
       "      <td>MexicoAccount</td>\n",
       "      <td>email205501</td>\n",
       "      <td>ip83553</td>\n",
       "      <td>card97271</td>\n",
       "    </tr>\n",
       "    <tr>\n",
       "      <th>...</th>\n",
       "      <td>...</td>\n",
       "      <td>...</td>\n",
       "      <td>...</td>\n",
       "      <td>...</td>\n",
       "      <td>...</td>\n",
       "      <td>...</td>\n",
       "      <td>...</td>\n",
       "      <td>...</td>\n",
       "      <td>...</td>\n",
       "      <td>...</td>\n",
       "      <td>...</td>\n",
       "      <td>...</td>\n",
       "      <td>...</td>\n",
       "      <td>...</td>\n",
       "      <td>...</td>\n",
       "      <td>...</td>\n",
       "      <td>...</td>\n",
       "    </tr>\n",
       "    <tr>\n",
       "      <th>290377</th>\n",
       "      <td>482729</td>\n",
       "      <td>2015-11-03 18:57:01</td>\n",
       "      <td>SE</td>\n",
       "      <td>visadebit</td>\n",
       "      <td>453903.0</td>\n",
       "      <td>48100.0</td>\n",
       "      <td>SEK</td>\n",
       "      <td>SE</td>\n",
       "      <td>Ecommerce</td>\n",
       "      <td>Settled</td>\n",
       "      <td>True</td>\n",
       "      <td>1</td>\n",
       "      <td>2015-10-31 23:21:58</td>\n",
       "      <td>SwedenAccount</td>\n",
       "      <td>email135821</td>\n",
       "      <td>ip125573</td>\n",
       "      <td>card83162</td>\n",
       "    </tr>\n",
       "    <tr>\n",
       "      <th>290378</th>\n",
       "      <td>482731</td>\n",
       "      <td>2015-11-03 08:12:14</td>\n",
       "      <td>SE</td>\n",
       "      <td>mcdebit</td>\n",
       "      <td>554501.0</td>\n",
       "      <td>195000.0</td>\n",
       "      <td>SEK</td>\n",
       "      <td>SE</td>\n",
       "      <td>Ecommerce</td>\n",
       "      <td>Settled</td>\n",
       "      <td>True</td>\n",
       "      <td>1</td>\n",
       "      <td>2015-10-31 23:31:24</td>\n",
       "      <td>SwedenAccount</td>\n",
       "      <td>email259702</td>\n",
       "      <td>ip202029</td>\n",
       "      <td>card131519</td>\n",
       "    </tr>\n",
       "    <tr>\n",
       "      <th>290379</th>\n",
       "      <td>482732</td>\n",
       "      <td>2015-11-03 08:12:14</td>\n",
       "      <td>SE</td>\n",
       "      <td>visadebit</td>\n",
       "      <td>453903.0</td>\n",
       "      <td>52500.0</td>\n",
       "      <td>SEK</td>\n",
       "      <td>SE</td>\n",
       "      <td>Ecommerce</td>\n",
       "      <td>Settled</td>\n",
       "      <td>True</td>\n",
       "      <td>1</td>\n",
       "      <td>2015-10-31 23:41:40</td>\n",
       "      <td>SwedenAccount</td>\n",
       "      <td>email32927</td>\n",
       "      <td>ip229869</td>\n",
       "      <td>card142173</td>\n",
       "    </tr>\n",
       "    <tr>\n",
       "      <th>290380</th>\n",
       "      <td>482733</td>\n",
       "      <td>2015-11-03 18:56:44</td>\n",
       "      <td>SE</td>\n",
       "      <td>mcdebit</td>\n",
       "      <td>554501.0</td>\n",
       "      <td>87700.0</td>\n",
       "      <td>SEK</td>\n",
       "      <td>SE</td>\n",
       "      <td>Ecommerce</td>\n",
       "      <td>Settled</td>\n",
       "      <td>True</td>\n",
       "      <td>1</td>\n",
       "      <td>2015-10-31 23:50:07</td>\n",
       "      <td>SwedenAccount</td>\n",
       "      <td>email97400</td>\n",
       "      <td>ip200721</td>\n",
       "      <td>card141579</td>\n",
       "    </tr>\n",
       "    <tr>\n",
       "      <th>290381</th>\n",
       "      <td>482734</td>\n",
       "      <td>2015-11-03 08:12:14</td>\n",
       "      <td>SE</td>\n",
       "      <td>mcdebit</td>\n",
       "      <td>554501.0</td>\n",
       "      <td>58500.0</td>\n",
       "      <td>SEK</td>\n",
       "      <td>SE</td>\n",
       "      <td>Ecommerce</td>\n",
       "      <td>Settled</td>\n",
       "      <td>True</td>\n",
       "      <td>1</td>\n",
       "      <td>2015-10-31 23:55:02</td>\n",
       "      <td>SwedenAccount</td>\n",
       "      <td>email12831</td>\n",
       "      <td>ip199739</td>\n",
       "      <td>card269508</td>\n",
       "    </tr>\n",
       "  </tbody>\n",
       "</table>\n",
       "<p>290382 rows × 17 columns</p>\n",
       "</div>"
      ],
      "text/plain": [
       "          txid          bookingdate issuercountrycode txvariantcode       bin  \\\n",
       "0            1  2015-11-09 14:26:51                MX      mccredit  530056.0   \n",
       "1            2  2015-11-09 14:27:38                MX      mccredit  547046.0   \n",
       "2            3  2015-11-23 16:34:16                MX      mccredit  528843.0   \n",
       "3            4  2015-11-23 16:34:51                MX      mccredit  547146.0   \n",
       "4            5  2015-11-09 14:26:08                MX   visaclassic  477291.0   \n",
       "...        ...                  ...               ...           ...       ...   \n",
       "290377  482729  2015-11-03 18:57:01                SE     visadebit  453903.0   \n",
       "290378  482731  2015-11-03 08:12:14                SE       mcdebit  554501.0   \n",
       "290379  482732  2015-11-03 08:12:14                SE     visadebit  453903.0   \n",
       "290380  482733  2015-11-03 18:56:44                SE       mcdebit  554501.0   \n",
       "290381  482734  2015-11-03 08:12:14                SE       mcdebit  554501.0   \n",
       "\n",
       "          amount currencycode shoppercountrycode shopperinteraction  \\\n",
       "0        64800.0          MXN                 MX          Ecommerce   \n",
       "1        44900.0          MXN                 MX          Ecommerce   \n",
       "2       149900.0          MXN                 MX          Ecommerce   \n",
       "3       109900.0          MXN                 MX          Ecommerce   \n",
       "4        89900.0          MXN                 MX          Ecommerce   \n",
       "...          ...          ...                ...                ...   \n",
       "290377   48100.0          SEK                 SE          Ecommerce   \n",
       "290378  195000.0          SEK                 SE          Ecommerce   \n",
       "290379   52500.0          SEK                 SE          Ecommerce   \n",
       "290380   87700.0          SEK                 SE          Ecommerce   \n",
       "290381   58500.0          SEK                 SE          Ecommerce   \n",
       "\n",
       "       simple_journal cardverificationcodesupplied  cvcresponsecode  \\\n",
       "0          Chargeback                         True                0   \n",
       "1          Chargeback                         True                0   \n",
       "2          Chargeback                         True                0   \n",
       "3          Chargeback                         True                0   \n",
       "4          Chargeback                         True                0   \n",
       "...               ...                          ...              ...   \n",
       "290377        Settled                         True                1   \n",
       "290378        Settled                         True                1   \n",
       "290379        Settled                         True                1   \n",
       "290380        Settled                         True                1   \n",
       "290381        Settled                         True                1   \n",
       "\n",
       "               creationdate    accountcode      mail_id     ip_id     card_id  \n",
       "0       2015-07-01 23:03:11  MexicoAccount   email68370  ip111778  card184798  \n",
       "1       2015-07-02 04:50:55  MexicoAccount  email101299   ip78749  card151595  \n",
       "2       2015-07-02 14:30:28  MexicoAccount  email278604   ip70594  card242142  \n",
       "3       2015-07-03 07:53:37  MexicoAccount   email47409  ip113648  card181744  \n",
       "4       2015-07-08 18:35:35  MexicoAccount  email205501   ip83553   card97271  \n",
       "...                     ...            ...          ...       ...         ...  \n",
       "290377  2015-10-31 23:21:58  SwedenAccount  email135821  ip125573   card83162  \n",
       "290378  2015-10-31 23:31:24  SwedenAccount  email259702  ip202029  card131519  \n",
       "290379  2015-10-31 23:41:40  SwedenAccount   email32927  ip229869  card142173  \n",
       "290380  2015-10-31 23:50:07  SwedenAccount   email97400  ip200721  card141579  \n",
       "290381  2015-10-31 23:55:02  SwedenAccount   email12831  ip199739  card269508  \n",
       "\n",
       "[290382 rows x 17 columns]"
      ]
     },
     "execution_count": 5,
     "metadata": {},
     "output_type": "execute_result"
    }
   ],
   "source": [
    "# data is pickled, faster than a CSV\n",
    "df = pd.read_pickle(\"~/Documents/Delft/CDA 2021/Lab 1/data_lab_1.pkl\")\n",
    "df"
   ]
  },
  {
   "cell_type": "code",
   "execution_count": 6,
   "metadata": {
    "cell_id": "00006-f91bb9d8-7140-40ad-9c52-f5179c40030b",
    "deepnote_cell_type": "code",
    "deepnote_to_be_reexecuted": false,
    "execution_millis": 112,
    "execution_start": 1620667389000,
    "source_hash": "31feb342",
    "tags": []
   },
   "outputs": [
    {
     "name": "stdout",
     "output_type": "stream",
     "text": [
      "345\n",
      "Total ratio of chargebacks to total transactions: 0.0011880901708783602\n",
      "Total ratio of refused transactions to total transactions: 0.1837097340744261\n",
      "Total ratio of legitimate transactions to total transactions: 0.8151021757546956\n"
     ]
    }
   ],
   "source": [
    "# simple_journal seems to be the attribute that includes transaction type. How many chargebacks (fraud) exist in the set?\n",
    "print(len(df.simple_journal[df.simple_journal == 'Chargeback']))\n",
    "print('Total ratio of chargebacks to total transactions: ' + str(len(df.simple_journal[df.simple_journal == 'Chargeback']) / len(df.index)))\n",
    "print('Total ratio of refused transactions to total transactions: ' + str(len(df.simple_journal[df.simple_journal == 'Refused']) / len(df.index)))\n",
    "print('Total ratio of legitimate transactions to total transactions: ' + str(len(df.simple_journal[df.simple_journal == 'Settled']) / len(df.index)))"
   ]
  },
  {
   "cell_type": "markdown",
   "metadata": {
    "cell_id": "00003-4ec85e22-7676-4e82-8241-a3f3b2fb214e",
    "deepnote_cell_type": "markdown"
   },
   "source": [
    "## Group Number: 69"
   ]
  },
  {
   "cell_type": "markdown",
   "metadata": {
    "cell_id": "00004-c37efd0d-1484-41ad-b485-34a3f70f2929",
    "deepnote_cell_type": "markdown"
   },
   "source": [
    "## Student 1 \n",
    "### Name: Andrew Gold\n",
    "### ID: 4995902"
   ]
  },
  {
   "cell_type": "markdown",
   "metadata": {
    "cell_id": "00006-0d089e91-4209-48be-aad1-ec311ac3ecb4",
    "deepnote_cell_type": "markdown"
   },
   "source": [
    "## Readme instructions:"
   ]
  },
  {
   "cell_type": "markdown",
   "metadata": {},
   "source": [
    "Install the following packages:\n",
    "\n",
    "`pip3 install imblearn` for over/undersampling (to compare their SMOTE implementation with ours)\n",
    "\n",
    "`pip3 install shap` for classifier interpretation in section 4\n"
   ]
  },
  {
   "cell_type": "code",
   "execution_count": 7,
   "metadata": {
    "cell_id": "00010-e6a3bd04-e932-44f7-8545-ba1f0ae7d33e",
    "deepnote_cell_type": "code",
    "deepnote_to_be_reexecuted": false,
    "execution_millis": 1,
    "execution_start": 1620667389097,
    "source_hash": "c28aea28",
    "tags": []
   },
   "outputs": [],
   "source": [
    "# I took the previous block and changed it to an md format. It is a lot more readable IMO - Srinath \n",
    "# Attribute List:\n",
    "# issuercountrycode: country where the card was issued\n",
    "# txvariantcode: the card type that was used (subbrand of visa or master card)\n",
    "# bin: card issuer identifier\n",
    "# amount/currencycode: transaction amount in minor units (so 100 EUR = 100 euro cent)\n",
    "# shoppercountrycode: IP address country\n",
    "# shopperinteraction: Ecommerce if it was an online transaction, ContAuth if it was a (monthly) subscription, POS if the card was used at Point of Sale\n",
    "# simple_journal: Payment status. Authorised = “transaction approved and no fraud reported”, Refused = “transaction was declined, can be fraud, but can also be insufficient funds, etc”, Chargeback = “transaction was approved, but turned out to be fraud”\n",
    "# bookingdate: only relevant for Chargebacks. Time stamp when the chargeback was reported. During simulation you may only use this knowledge after this date. So for example if on an email address a transaction ended in a chargeback, you can only block that email address after the booking date of the chargeback.\n",
    "# cardverificationresponsesupplied: did the shopper provide his 3 digit CVC/CVV2 code?\n",
    "# cvcresponsecode: Validation result of the CVC/CVV2 code: 0 = Unknown, 1=Match, 2=No Match, 3-6=Not checked\n",
    "# creationdate: Date of transaction\n",
    "# accountcode: merchant’s webshop\n",
    "# mail_id: Email address\n",
    "# ip_id: Ip address\n",
    "# card_id: Card number"
   ]
  },
  {
   "cell_type": "code",
   "execution_count": 8,
   "metadata": {
    "cell_id": "00013-1aed8075-1f7c-4df4-94b8-b48eeda7808b",
    "deepnote_cell_type": "code",
    "deepnote_to_be_reexecuted": false,
    "execution_millis": 28167468,
    "execution_start": 1620667389104,
    "source_hash": "7ad589ae",
    "tags": []
   },
   "outputs": [],
   "source": [
    "###  First let's process the data for a bit more easier visualization\n",
    "# We can one-hot encode all the string variables and then keep a table for reference - useful for ML\n",
    "# For the dates, we can either sort the dataframe by the dates sequentially and then drop the column or convert to UNIX time"
   ]
  },
  {
   "cell_type": "code",
   "execution_count": 9,
   "metadata": {
    "cell_id": "00015-9a4272b8-4969-4b5c-b98a-dbb6928f463f",
    "deepnote_cell_type": "code",
    "deepnote_to_be_reexecuted": false,
    "execution_millis": 151,
    "execution_start": 1620667389149,
    "source_hash": "7c3e4bb3",
    "tags": []
   },
   "outputs": [
    {
     "data": {
      "text/plain": [
       "txid                                0\n",
       "bookingdate                         0\n",
       "issuercountrycode                 493\n",
       "txvariantcode                       0\n",
       "bin                               140\n",
       "amount                              0\n",
       "currencycode                        0\n",
       "shoppercountrycode                482\n",
       "shopperinteraction                  0\n",
       "simple_journal                      0\n",
       "cardverificationcodesupplied    14717\n",
       "cvcresponsecode                     0\n",
       "creationdate                        0\n",
       "accountcode                         0\n",
       "mail_id                             0\n",
       "ip_id                               0\n",
       "card_id                             0\n",
       "dtype: int64"
      ]
     },
     "execution_count": 9,
     "metadata": {},
     "output_type": "execute_result"
    }
   ],
   "source": [
    "# Let's see how many null items exist in our dataset\n",
    "df.isnull().sum()"
   ]
  },
  {
   "cell_type": "code",
   "execution_count": 10,
   "metadata": {
    "cell_id": "00015-9fefeabd-0287-49c9-a9c0-689fa1540fc9",
    "deepnote_cell_type": "code",
    "deepnote_to_be_reexecuted": false,
    "execution_millis": 61,
    "execution_start": 1620667389295,
    "source_hash": "758d8f93",
    "tags": []
   },
   "outputs": [
    {
     "name": "stderr",
     "output_type": "stream",
     "text": [
      "\n",
      "A value is trying to be set on a copy of a slice from a DataFrame\n",
      "\n",
      "See the caveats in the documentation: https://pandas.pydata.org/pandas-docs/stable/user_guide/indexing.html#returning-a-view-versus-a-copy\n"
     ]
    }
   ],
   "source": [
    "# Manually fix each of these\n",
    "\n",
    "# Create a fake country\n",
    "df.issuercountrycode.iloc[np.where(df.issuercountrycode.isnull())] = 'ZZZ'\n",
    "\n",
    "# Create a fake bin\n",
    "df.bin.iloc[np.where(df.bin.isnull())] = 0\n",
    "\n",
    "# Create a fake country code\n",
    "df.shoppercountrycode.iloc[np.where(df.shoppercountrycode.isnull())] = 'ZZZ'\n",
    "\n",
    "# Force all null values in \"cardverificationcodesupplied\" to \"False\"\n",
    "df.cardverificationcodesupplied.iloc[np.where(df.cardverificationcodesupplied.isnull())] = False\n"
   ]
  },
  {
   "cell_type": "code",
   "execution_count": 11,
   "metadata": {
    "cell_id": "00017-c3acc6ca-86a1-4839-9f9a-2555bd9d7859",
    "deepnote_cell_type": "code",
    "deepnote_to_be_reexecuted": false,
    "execution_millis": 3027,
    "execution_start": 1620667389361,
    "source_hash": "f935bb7",
    "tags": []
   },
   "outputs": [
    {
     "name": "stdout",
     "output_type": "stream",
     "text": [
      "<class 'pandas.core.frame.DataFrame'>\n",
      "RangeIndex: 290382 entries, 0 to 290381\n",
      "Data columns (total 17 columns):\n",
      " #   Column                        Non-Null Count   Dtype  \n",
      "---  ------                        --------------   -----  \n",
      " 0   txid                          290382 non-null  int64  \n",
      " 1   bookingdate                   290382 non-null  int64  \n",
      " 2   issuercountrycode             290382 non-null  int32  \n",
      " 3   txvariantcode                 290382 non-null  int32  \n",
      " 4   bin                           290382 non-null  int64  \n",
      " 5   amount                        290382 non-null  float64\n",
      " 6   currencycode                  290382 non-null  int32  \n",
      " 7   shoppercountrycode            290382 non-null  int32  \n",
      " 8   shopperinteraction            290382 non-null  int32  \n",
      " 9   simple_journal                290382 non-null  int32  \n",
      " 10  cardverificationcodesupplied  290382 non-null  int32  \n",
      " 11  cvcresponsecode               290382 non-null  int64  \n",
      " 12  creationdate                  290382 non-null  int64  \n",
      " 13  accountcode                   290382 non-null  int32  \n",
      " 14  mail_id                       290382 non-null  int32  \n",
      " 15  ip_id                         290382 non-null  int32  \n",
      " 16  card_id                       290382 non-null  int32  \n",
      "dtypes: float64(1), int32(11), int64(5)\n",
      "memory usage: 25.5 MB\n"
     ]
    }
   ],
   "source": [
    "### ENCODE STRING VARIABLES ###\n",
    "\n",
    "\n",
    "label_encoder = LabelEncoder() # for encoding target labels\n",
    "# ordinal_encoder = OrdinalEncoder() # for encoding features with \n",
    "# OH_encoder = OneHotEncoder()\n",
    "\n",
    "\n",
    "# issuercountrycode - encode\n",
    "df.issuercountrycode = label_encoder.fit_transform(df.issuercountrycode)\n",
    "\n",
    "\n",
    "# txvariantcode\n",
    "df.txvariantcode = label_encoder.fit_transform(df.txvariantcode)\n",
    "\n",
    "\n",
    "# currencycode \n",
    "df.currencycode = label_encoder.fit_transform(df.currencycode)\n",
    "\n",
    "\n",
    "# shoppercountrycode\n",
    "df.shoppercountrycode = label_encoder.fit_transform(df.shoppercountrycode)\n",
    "\n",
    "\n",
    "# shopperinteraction\n",
    "df.shopperinteraction = label_encoder.fit_transform(df.shopperinteraction)\n",
    "\n",
    "\n",
    "# bin\n",
    "df.bin = label_encoder.fit_transform(df.bin)\n",
    "\n",
    "\n",
    "# simple_journal (Chargeback = 0 (fraud), Rejected = 1 (possible fraud), Settled = 2)\n",
    "df.simple_journal = label_encoder.fit_transform(df.simple_journal)\n",
    "\n",
    "\n",
    "# cardverificationcodesupplied\n",
    "df.cardverificationcodesupplied = label_encoder.fit_transform(df.cardverificationcodesupplied)\n",
    "\n",
    "\n",
    "# accountcode\n",
    "df.accountcode = label_encoder.fit_transform(df.accountcode)\n",
    "\n",
    "\n",
    "# mail_id\n",
    "df.mail_id = label_encoder.fit_transform(df.mail_id)\n",
    "\n",
    "\n",
    "# ip_id\n",
    "df.ip_id = label_encoder.fit_transform(df.ip_id)\n",
    "\n",
    "\n",
    "# card_id\n",
    "df.card_id = label_encoder.fit_transform(df.card_id)\n",
    "\n",
    "\n",
    "df.bookingdate = pd.to_datetime(df.bookingdate).astype('int64')\n",
    "df.creationdate = pd.to_datetime(df.creationdate).astype('int64')\n",
    "\n",
    "df.info()"
   ]
  },
  {
   "cell_type": "code",
   "execution_count": 12,
   "metadata": {
    "cell_id": "00017-d35915d5-0b53-4e4b-8d7c-d823a23e0b83",
    "deepnote_cell_type": "code",
    "deepnote_to_be_reexecuted": false,
    "execution_millis": 25,
    "execution_start": 1620667392384,
    "source_hash": "d973fcd1",
    "tags": []
   },
   "outputs": [
    {
     "data": {
      "text/plain": [
       "txid                            0\n",
       "bookingdate                     0\n",
       "issuercountrycode               0\n",
       "txvariantcode                   0\n",
       "bin                             0\n",
       "amount                          0\n",
       "currencycode                    0\n",
       "shoppercountrycode              0\n",
       "shopperinteraction              0\n",
       "simple_journal                  0\n",
       "cardverificationcodesupplied    0\n",
       "cvcresponsecode                 0\n",
       "creationdate                    0\n",
       "accountcode                     0\n",
       "mail_id                         0\n",
       "ip_id                           0\n",
       "card_id                         0\n",
       "dtype: int64"
      ]
     },
     "execution_count": 12,
     "metadata": {},
     "output_type": "execute_result"
    }
   ],
   "source": [
    "# Fixed?\n",
    "df.isnull().sum()"
   ]
  },
  {
   "cell_type": "code",
   "execution_count": 13,
   "metadata": {
    "cell_id": "00019-aa71662f-216c-4ff0-9013-de47269706cb",
    "deepnote_cell_type": "code",
    "deepnote_to_be_reexecuted": false,
    "execution_millis": 55,
    "execution_start": 1620667392403,
    "source_hash": "ae4627ba",
    "tags": []
   },
   "outputs": [
    {
     "data": {
      "text/html": [
       "<div>\n",
       "<style scoped>\n",
       "    .dataframe tbody tr th:only-of-type {\n",
       "        vertical-align: middle;\n",
       "    }\n",
       "\n",
       "    .dataframe tbody tr th {\n",
       "        vertical-align: top;\n",
       "    }\n",
       "\n",
       "    .dataframe thead th {\n",
       "        text-align: right;\n",
       "    }\n",
       "</style>\n",
       "<table border=\"1\" class=\"dataframe\">\n",
       "  <thead>\n",
       "    <tr style=\"text-align: right;\">\n",
       "      <th></th>\n",
       "      <th>txid</th>\n",
       "      <th>bookingdate</th>\n",
       "      <th>issuercountrycode</th>\n",
       "      <th>txvariantcode</th>\n",
       "      <th>bin</th>\n",
       "      <th>amount</th>\n",
       "      <th>currencycode</th>\n",
       "      <th>shoppercountrycode</th>\n",
       "      <th>shopperinteraction</th>\n",
       "      <th>simple_journal</th>\n",
       "      <th>cardverificationcodesupplied</th>\n",
       "      <th>cvcresponsecode</th>\n",
       "      <th>creationdate</th>\n",
       "      <th>accountcode</th>\n",
       "      <th>mail_id</th>\n",
       "      <th>ip_id</th>\n",
       "      <th>card_id</th>\n",
       "    </tr>\n",
       "  </thead>\n",
       "  <tbody>\n",
       "    <tr>\n",
       "      <th>0</th>\n",
       "      <td>1</td>\n",
       "      <td>1447079211000000000</td>\n",
       "      <td>92</td>\n",
       "      <td>3</td>\n",
       "      <td>3204</td>\n",
       "      <td>64800.0</td>\n",
       "      <td>2</td>\n",
       "      <td>103</td>\n",
       "      <td>1</td>\n",
       "      <td>0</td>\n",
       "      <td>1</td>\n",
       "      <td>0</td>\n",
       "      <td>1435791791000000000</td>\n",
       "      <td>1</td>\n",
       "      <td>198681</td>\n",
       "      <td>8033</td>\n",
       "      <td>81635</td>\n",
       "    </tr>\n",
       "    <tr>\n",
       "      <th>1</th>\n",
       "      <td>2</td>\n",
       "      <td>1447079258000000000</td>\n",
       "      <td>92</td>\n",
       "      <td>3</td>\n",
       "      <td>3749</td>\n",
       "      <td>44900.0</td>\n",
       "      <td>2</td>\n",
       "      <td>103</td>\n",
       "      <td>1</td>\n",
       "      <td>0</td>\n",
       "      <td>1</td>\n",
       "      <td>0</td>\n",
       "      <td>1435812655000000000</td>\n",
       "      <td>1</td>\n",
       "      <td>921</td>\n",
       "      <td>205937</td>\n",
       "      <td>49763</td>\n",
       "    </tr>\n",
       "    <tr>\n",
       "      <th>2</th>\n",
       "      <td>3</td>\n",
       "      <td>1448296456000000000</td>\n",
       "      <td>92</td>\n",
       "      <td>3</td>\n",
       "      <td>3159</td>\n",
       "      <td>149900.0</td>\n",
       "      <td>2</td>\n",
       "      <td>103</td>\n",
       "      <td>1</td>\n",
       "      <td>0</td>\n",
       "      <td>1</td>\n",
       "      <td>0</td>\n",
       "      <td>1435847428000000000</td>\n",
       "      <td>1</td>\n",
       "      <td>126264</td>\n",
       "      <td>200422</td>\n",
       "      <td>136762</td>\n",
       "    </tr>\n",
       "    <tr>\n",
       "      <th>3</th>\n",
       "      <td>4</td>\n",
       "      <td>1448296491000000000</td>\n",
       "      <td>92</td>\n",
       "      <td>3</td>\n",
       "      <td>3762</td>\n",
       "      <td>109900.0</td>\n",
       "      <td>2</td>\n",
       "      <td>103</td>\n",
       "      <td>1</td>\n",
       "      <td>0</td>\n",
       "      <td>1</td>\n",
       "      <td>0</td>\n",
       "      <td>1435910017000000000</td>\n",
       "      <td>1</td>\n",
       "      <td>183709</td>\n",
       "      <td>9264</td>\n",
       "      <td>78697</td>\n",
       "    </tr>\n",
       "    <tr>\n",
       "      <th>4</th>\n",
       "      <td>5</td>\n",
       "      <td>1447079168000000000</td>\n",
       "      <td>92</td>\n",
       "      <td>7</td>\n",
       "      <td>2115</td>\n",
       "      <td>89900.0</td>\n",
       "      <td>2</td>\n",
       "      <td>103</td>\n",
       "      <td>1</td>\n",
       "      <td>0</td>\n",
       "      <td>1</td>\n",
       "      <td>0</td>\n",
       "      <td>1436380535000000000</td>\n",
       "      <td>1</td>\n",
       "      <td>74828</td>\n",
       "      <td>209046</td>\n",
       "      <td>232186</td>\n",
       "    </tr>\n",
       "  </tbody>\n",
       "</table>\n",
       "</div>"
      ],
      "text/plain": [
       "   txid          bookingdate  issuercountrycode  txvariantcode   bin  \\\n",
       "0     1  1447079211000000000                 92              3  3204   \n",
       "1     2  1447079258000000000                 92              3  3749   \n",
       "2     3  1448296456000000000                 92              3  3159   \n",
       "3     4  1448296491000000000                 92              3  3762   \n",
       "4     5  1447079168000000000                 92              7  2115   \n",
       "\n",
       "     amount  currencycode  shoppercountrycode  shopperinteraction  \\\n",
       "0   64800.0             2                 103                   1   \n",
       "1   44900.0             2                 103                   1   \n",
       "2  149900.0             2                 103                   1   \n",
       "3  109900.0             2                 103                   1   \n",
       "4   89900.0             2                 103                   1   \n",
       "\n",
       "   simple_journal  cardverificationcodesupplied  cvcresponsecode  \\\n",
       "0               0                             1                0   \n",
       "1               0                             1                0   \n",
       "2               0                             1                0   \n",
       "3               0                             1                0   \n",
       "4               0                             1                0   \n",
       "\n",
       "          creationdate  accountcode  mail_id   ip_id  card_id  \n",
       "0  1435791791000000000            1   198681    8033    81635  \n",
       "1  1435812655000000000            1      921  205937    49763  \n",
       "2  1435847428000000000            1   126264  200422   136762  \n",
       "3  1435910017000000000            1   183709    9264    78697  \n",
       "4  1436380535000000000            1    74828  209046   232186  "
      ]
     },
     "execution_count": 13,
     "metadata": {},
     "output_type": "execute_result"
    }
   ],
   "source": [
    "# Data is encoded, nothing but int/float variables\n",
    "df.head()"
   ]
  },
  {
   "cell_type": "markdown",
   "metadata": {
    "cell_id": "00020-37dcca74-0561-41b5-9258-47f08454b2cb",
    "deepnote_cell_type": "markdown"
   },
   "source": [
    "## 3. Privacy task (Rank Swap) – 1 A4 – Individual"
   ]
  },
  {
   "cell_type": "code",
   "execution_count": 14,
   "metadata": {},
   "outputs": [
    {
     "name": "stderr",
     "output_type": "stream",
     "text": [
      "\n",
      "A value is trying to be set on a copy of a slice from a DataFrame\n",
      "\n",
      "See the caveats in the documentation: https://pandas.pydata.org/pandas-docs/stable/user_guide/indexing.html#returning-a-view-versus-a-copy\n",
      "\n",
      "A value is trying to be set on a copy of a slice from a DataFrame\n",
      "\n",
      "See the caveats in the documentation: https://pandas.pydata.org/pandas-docs/stable/user_guide/indexing.html#returning-a-view-versus-a-copy\n",
      "\n",
      "A value is trying to be set on a copy of a slice from a DataFrame\n",
      "\n",
      "See the caveats in the documentation: https://pandas.pydata.org/pandas-docs/stable/user_guide/indexing.html#returning-a-view-versus-a-copy\n",
      "\n",
      "A value is trying to be set on a copy of a slice from a DataFrame\n",
      "\n",
      "See the caveats in the documentation: https://pandas.pydata.org/pandas-docs/stable/user_guide/indexing.html#returning-a-view-versus-a-copy\n"
     ]
    }
   ],
   "source": [
    "### --- Define df_X and df_Y to be unified across the notebook --- ###\n",
    "\n",
    "df_X = df.drop('simple_journal', axis=1, inplace=False)\n",
    "df_X.drop('bookingdate', axis=1, inplace=True) # Drop timestamp to prevent potential overfitting\n",
    "df_X.drop('txid', axis=1, inplace=True) # Chargebacks are grouped by txid\n",
    "\n",
    "df_Y = df.simple_journal\n",
    "\n",
    "# Transform into a binary problem by combining \"benign\" and \"potentially fraud\" to reduce false positives\n",
    "\n",
    "df_Y.loc[np.where(df_Y == 2)] = 1 # Combine the benign and \"maybe fraud\" values\n",
    "df_Y.loc[np.where(df_Y == 0)] = 3 # Set the fraud values to 3 temporarily\n",
    "df_Y.loc[np.where(df_Y == 1)] = 0 # Set the benign values = 0\n",
    "df_Y.loc[np.where(df_Y == 3)] = 1 # Set the fraud target value = 1\n",
    "\n",
    "df_X = pd.DataFrame(StandardScaler().fit_transform(df_X), columns=df_X.columns)\n",
    "\n",
    "### --- Define the training and test datasets --- ###\n",
    "\n",
    "# Unshuffled data (since the timing of transactions might affect outcome)\n",
    "x_train, x_test, y_train, y_test = train_test_split(df_X, df_Y, shuffle=False, test_size = 0.2)\n",
    "\n",
    "# Shuffled data (to contrast the unshuffled data)\n",
    "x_train_shuf, x_test_shuf, y_train_shuf, y_test_shuf = train_test_split(df_X, df_Y, shuffle=True, test_size = 0.2)"
   ]
  },
  {
   "cell_type": "code",
   "execution_count": 15,
   "metadata": {
    "cell_id": "00039-f1f03ebe-428c-422e-93dc-ca8113ab5a94",
    "deepnote_cell_type": "code",
    "deepnote_to_be_reexecuted": false,
    "execution_millis": 1,
    "execution_start": 1620667398832,
    "source_hash": "cd27dc32",
    "tags": []
   },
   "outputs": [],
   "source": [
    "# Implement rank swap algorithm\n",
    "def rank_swap(data, p):\n",
    "    # P is the rank range as a percentage of total size, so if P = 0.01 then the range is 1%\n",
    "    assert(p > 0 and p <= 1.0) # assert that p must be between 0.0 and 1.0\n",
    "    \n",
    "    original = data.to_numpy() # Convert to array format\n",
    "    attributes_original = [] # Save the original\n",
    "    attributes_ordered = [] # Save the ordered attributes\n",
    "\n",
    "    \n",
    "    for attribute_index in range(len(original[0])):\n",
    "\n",
    "        attribute_values_original = [item[attribute_index] for item in original]\n",
    "        attributes_original.append(attribute_values_original)\n",
    "\n",
    "        attribute_values_ordered = (attribute_values_original.copy())\n",
    "        attribute_values_ordered.sort()\n",
    "        attributes_ordered.append(attribute_values_ordered)\n",
    "\n",
    "    rank_swapped_data = original.copy()\n",
    "\n",
    "    margin = round((p * len(original)))\n",
    "    len_original = len(original)-1\n",
    "\n",
    "    for row_index, row in enumerate(original):\n",
    "        for attribute_index, attribute_value in enumerate(row):\n",
    "            ordered_item_index = bisect.bisect_left(attributes_ordered[attribute_index], attribute_value)\n",
    "\n",
    "            possible_swap_indices_lower = max(0, ordered_item_index - margin)\n",
    "            possible_swap_indices_upper = min(len_original, ordered_item_index + margin)\n",
    "\n",
    "            selected_swap_index = random.randint(possible_swap_indices_lower, possible_swap_indices_upper)\n",
    "              \n",
    "            selected_swap_value = original[selected_swap_index][attribute_index]\n",
    "\n",
    "            rank_swapped_data[selected_swap_index][attribute_index] = rank_swapped_data[row_index][attribute_index]\n",
    "\n",
    "            rank_swapped_data[row_index][attribute_index] = selected_swap_value\n",
    "    return rank_swapped_data"
   ]
  },
  {
   "cell_type": "code",
   "execution_count": 16,
   "metadata": {
    "cell_id": "00040-3969e99b-1414-4c94-adb6-e9a711a41581",
    "deepnote_cell_type": "code",
    "deepnote_to_be_reexecuted": false,
    "execution_millis": 9606,
    "execution_start": 1620667398836,
    "source_hash": "5f3aaac8",
    "tags": []
   },
   "outputs": [
    {
     "name": "stderr",
     "output_type": "stream",
     "text": [
      "Pass sampling_strategy=0.5 as keyword args. From version 0.9 passing these as positional arguments will result in an error\n",
      "Pass sampling_strategy=0.5 as keyword args. From version 0.9 passing these as positional arguments will result in an error\n"
     ]
    },
    {
     "name": "stdout",
     "output_type": "stream",
     "text": [
      "(232305, 14) (232305,)\n",
      "(232305, 14) (232305,)\n",
      "(347985, 14) (347985,)\n",
      "(347985, 14) (347985,)\n"
     ]
    }
   ],
   "source": [
    "### Define the datasets:\n",
    "# df_swapped: dataset that has been rank-swapped\n",
    "# df_unswapped: dataset that has not been rank-swapped\n",
    "# df_smote_swapped: dataset that has been SMOTE and rank-swapped\n",
    "\n",
    "\n",
    "\n",
    "\n",
    "\n",
    "x_train_swap = pd.DataFrame(rank_swap(x_train, 0.1), columns = x_train.columns)\n",
    "x_train_smote_swap, y_train_smote_swap = SMOTE(0.5).fit_resample(x_train_swap, y_train)\n",
    "x_train_smote, y_train_smote = SMOTE(0.5).fit_resample(x_train, y_train)\n",
    "\n",
    "\n",
    "print(x_train.shape, y_train.shape)\n",
    "print(x_train_swap.shape, y_train.shape)\n",
    "print(x_train_smote_swap.shape, y_train_smote_swap.shape)\n",
    "print(x_train_smote.shape, y_train_smote.shape)"
   ]
  },
  {
   "cell_type": "code",
   "execution_count": 26,
   "metadata": {
    "cell_id": "00040-2e9c4131-a46d-42c1-82b6-48ed251a9aff",
    "deepnote_cell_type": "code",
    "deepnote_to_be_reexecuted": false,
    "execution_millis": 24005,
    "execution_start": 1620667414528,
    "source_hash": "23ef15f1",
    "tags": []
   },
   "outputs": [
    {
     "name": "stdout",
     "output_type": "stream",
     "text": [
      "Wall time: 206 ms\n",
      "Wall time: 157 ms\n",
      "Wall time: 260 ms\n",
      "Wall time: 231 ms\n"
     ]
    },
    {
     "data": {
      "text/plain": [
       "SGDClassifier(n_jobs=-1, penalty='l1', shuffle=False)"
      ]
     },
     "execution_count": 26,
     "metadata": {},
     "output_type": "execute_result"
    }
   ],
   "source": [
    "### --- Create 3 classification models --- ###\n",
    "# SGD logistic classifier\n",
    "\n",
    "# Logistic classifier, Hinge instead of Ridge due to the complexity of the data and low correlation between most features, no shuffling (time may be a factor)\n",
    "SGD_swap = SGDClassifier(loss='hinge', penalty='l1', shuffle=False, n_jobs=-1, max_iter=1000)\n",
    "SGD_unswap = SGDClassifier(loss='hinge', penalty='l1', shuffle=False, n_jobs=-1, max_iter=1000)\n",
    "SGD_smote_swap = SGDClassifier(loss='hinge', penalty='l1', shuffle=False, n_jobs=-1, max_iter=1000)\n",
    "SGD_smote_unswap = SGDClassifier(loss='hinge', penalty='l1', shuffle=False, n_jobs=-1, max_iter=1000)\n",
    "\n",
    "\n",
    "%time SGD_unswap.fit(x_train, y_train)\n",
    "%time SGD_swap.fit(x_train_swap, y_train)\n",
    "%time SGD_smote_swap.fit(x_train_smote_swap, y_train_smote_swap)\n",
    "%time SGD_smote_unswap.fit(x_train_smote, y_train_smote)"
   ]
  },
  {
   "cell_type": "code",
   "execution_count": 18,
   "metadata": {
    "cell_id": "00041-8bf189d4-0925-411f-aae0-8350778f2a1d",
    "deepnote_cell_type": "code",
    "deepnote_to_be_reexecuted": false,
    "execution_millis": 48,
    "execution_start": 1620667438532,
    "source_hash": "aabaaae3",
    "tags": []
   },
   "outputs": [],
   "source": [
    "# print(\"Swapped data score: \", SGD_swap.score(x_test, y_test))\n",
    "# print(\"Unswapped data score: \", SGD_unswap.score(x_test, y_test))\n",
    "# print(\"Swapped SMOTE data score: \", SGD_smote_swap.score(x_test, y_test))"
   ]
  },
  {
   "cell_type": "code",
   "execution_count": 19,
   "metadata": {},
   "outputs": [
    {
     "name": "stdout",
     "output_type": "stream",
     "text": [
      "Wall time: 1min 12s\n",
      "Wall time: 1min 30s\n",
      "Wall time: 3min 24s\n",
      "Wall time: 3min 13s\n"
     ]
    },
    {
     "data": {
      "text/plain": [
       "KNeighborsClassifier(n_neighbors=10)"
      ]
     },
     "execution_count": 19,
     "metadata": {},
     "output_type": "execute_result"
    }
   ],
   "source": [
    "knn_swap = KNeighborsClassifier(n_neighbors=10)\n",
    "knn_unswap = KNeighborsClassifier(n_neighbors=10)\n",
    "knn_smote_swap = KNeighborsClassifier(n_neighbors=10)\n",
    "knn_smote_unswap = KNeighborsClassifier(n_neighbors=10)\n",
    "\n",
    "%time knn_unswap.fit(x_train, y_train)\n",
    "%time knn_swap.fit(x_train_swap, y_train)\n",
    "%time knn_smote_swap.fit(x_train_smote_swap, y_train_smote_swap)\n",
    "%time knn_smote_unswap.fit(x_train_smote, y_train_smote)\n",
    "\n",
    "# print(\"Unswapped KNN Score: \", knn_unswap.score(x_test, y_test))\n",
    "# print(\"Swapped KNN Score: \", knn_swap.score(x_test, y_test))\n",
    "# print(\"Swapped SMOTE KNN Score: \", knn_smote_swap.score(x_test, y_test))"
   ]
  },
  {
   "cell_type": "code",
   "execution_count": 20,
   "metadata": {
    "cell_id": "00043-f16e9a6e-f0d9-464f-b276-6f07d67c8a9d",
    "deepnote_cell_type": "code",
    "deepnote_to_be_reexecuted": true,
    "execution_millis": 768937,
    "execution_start": 1620653989746,
    "source_hash": "4527dac",
    "tags": []
   },
   "outputs": [
    {
     "name": "stdout",
     "output_type": "stream",
     "text": [
      "Wall time: 4min 13s\n",
      "Wall time: 5min 29s\n",
      "Wall time: 12min 2s\n",
      "Wall time: 11min 59s\n"
     ]
    },
    {
     "data": {
      "text/plain": [
       "RandomForestClassifier(n_estimators=1000)"
      ]
     },
     "execution_count": 20,
     "metadata": {},
     "output_type": "execute_result"
    }
   ],
   "source": [
    "forest_swap = RandomForestClassifier(n_estimators=1000)\n",
    "forest_unswap = RandomForestClassifier(n_estimators=1000)\n",
    "forest_smote_swap = RandomForestClassifier(n_estimators=1000)\n",
    "forest_smote_unswap = RandomForestClassifier(n_estimators=1000)\n",
    "\n",
    "%time forest_unswap.fit(x_train, y_train)\n",
    "%time forest_swap.fit(x_train_swap, y_train)\n",
    "%time forest_smote_swap.fit(x_train_smote_swap, y_train_smote_swap)\n",
    "%time forest_smote_unswap.fit(x_train_smote, y_train_smote)"
   ]
  },
  {
   "cell_type": "code",
   "execution_count": 31,
   "metadata": {
    "cell_id": "00045-832ffc2e-fa6e-4980-bc88-805d60dab7b7",
    "deepnote_cell_type": "code",
    "deepnote_to_be_reexecuted": true,
    "execution_millis": 5443,
    "execution_start": 1620662645707,
    "source_hash": "52870bd4",
    "tags": []
   },
   "outputs": [],
   "source": [
    "# print(\"Random forest with unswapped data score: \", forest_unswap.score(x_test, y_test))\n",
    "# print(\"Random forest with swapped data score: \", forest_swap.score(x_test, y_test))\n",
    "# print(\"Random forest with swapped SMOTE data: \", forest_smote_swap.score(x_test, y_test))\n",
    "# print(\"Random forest with unswapped SMOTE data: \", forest_smote_swap.score(x_test, y_test))"
   ]
  },
  {
   "cell_type": "markdown",
   "metadata": {
    "cell_id": "00021-7e308ad2-cce7-4e64-9893-a2d614ae6f6c",
    "deepnote_cell_type": "markdown"
   },
   "source": [
    "### 3a. Print ROC curves"
   ]
  },
  {
   "cell_type": "code",
   "execution_count": 21,
   "metadata": {},
   "outputs": [
    {
     "name": "stdout",
     "output_type": "stream",
     "text": [
      "Wall time: 28 ms\n",
      "Wall time: 15 ms\n",
      "Wall time: 14 ms\n",
      "Wall time: 19 ms\n"
     ]
    },
    {
     "data": {
      "image/png": "[encoded data removed]",
      "text/plain": [
       "<Figure size 720x720 with 1 Axes>"
      ]
     },
     "metadata": {
      "needs_background": "light"
     },
     "output_type": "display_data"
    },
    {
     "name": "stdout",
     "output_type": "stream",
     "text": [
      "Wall time: 274 ms\n"
     ]
    }
   ],
   "source": [
    "fig, (ax1) = plt.subplots(1,figsize=(10,10))\n",
    "\n",
    "%time SGD_unswap_roc = plot_roc_curve(SGD_unswap, x_test, y_test, ax=ax1, name=\"SGD Unswapped\")\n",
    "%time SGD_swap_roc = plot_roc_curve(SGD_swap, x_test, y_test, ax=ax1, name=\"SGD Swapped\")\n",
    "%time SGD_smote_swap_roc = plot_roc_curve(SGD_smote_swap, x_test, y_test, ax=ax1, name=\"SGD SMOTE Swapped\")\n",
    "%time SGD_smote_unswap_roc = plot_roc_curve(SGD_smote_unswap, x_test, y_test, ax=ax1, name=\"SGD SMOTE Unswapped\")\n",
    "\n",
    "\n",
    "\n",
    "%time plt.show()"
   ]
  },
  {
   "cell_type": "markdown",
   "metadata": {},
   "source": [
    "Here, we can see that both the difference between the swapped and unswapped data is identical in terms of ROC performance, for both the normal and the SMOTE models. However, what is interesting is that the un-SMOTE model has a similar AUC as the SMOTE data, which one would not assume would be the case. One would assume that SMOTE data would lead to a much higher performance. However, the SGDClassifier may not be particularly robust."
   ]
  },
  {
   "cell_type": "code",
   "execution_count": 22,
   "metadata": {},
   "outputs": [
    {
     "name": "stdout",
     "output_type": "stream",
     "text": [
      "Wall time: 2min 48s\n",
      "Wall time: 5min 58s\n",
      "Wall time: 7min 10s\n",
      "Wall time: 2min 45s\n"
     ]
    },
    {
     "data": {
      "image/png": "[encoded data removed]",
      "text/plain": [
       "<Figure size 720x720 with 1 Axes>"
      ]
     },
     "metadata": {
      "needs_background": "light"
     },
     "output_type": "display_data"
    },
    {
     "name": "stdout",
     "output_type": "stream",
     "text": [
      "Wall time: 191 ms\n"
     ]
    }
   ],
   "source": [
    "fig, (ax1) = plt.subplots(1,figsize=(10,10))\n",
    "\n",
    "%time KNN_unswap_roc = plot_roc_curve(knn_unswap, x_test, y_test, ax=ax1, name=\"KNN Unswapped\")\n",
    "%time KNN_swap_roc = plot_roc_curve(knn_swap, x_test, y_test, ax=ax1, name=\"KNN Swapped\")\n",
    "%time KNN_smote_swap_roc = plot_roc_curve(knn_smote_swap, x_test, y_test, ax=ax1, name=\"KNN SMOTE Swapped\")\n",
    "%time KNN_smote_unswap_roc = plot_roc_curve(knn_smote_unswap, x_test, y_test, ax=ax1, name=\"KNN SMOTE Unswapped\")\n",
    "\n",
    "\n",
    "\n",
    "%time plt.show()"
   ]
  },
  {
   "cell_type": "markdown",
   "metadata": {},
   "source": [
    "With the KNN classifier, we see some very odd behavior, indicating that the KNN model was unable to make any meaningful discrimination between the two target values. The only model that had a slight performance boose was the unswapped SMOTE data. However, this ROC analysis indicates that the model is not properly tuned for this dataset, possibly due to the lack of feature scaling (which is not necessary for certain models, but is indeed necessary for KNN). I realized this too late to fix before the deadline."
   ]
  },
  {
   "cell_type": "code",
   "execution_count": 23,
   "metadata": {},
   "outputs": [
    {
     "name": "stdout",
     "output_type": "stream",
     "text": [
      "Wall time: 5.04 s\n",
      "Wall time: 4.29 s\n",
      "Wall time: 4.75 s\n",
      "Wall time: 4.76 s\n"
     ]
    },
    {
     "data": {
      "image/png": "[encoded data removed]",
      "text/plain": [
       "<Figure size 720x720 with 1 Axes>"
      ]
     },
     "metadata": {
      "needs_background": "light"
     },
     "output_type": "display_data"
    },
    {
     "name": "stdout",
     "output_type": "stream",
     "text": [
      "Wall time: 199 ms\n"
     ]
    }
   ],
   "source": [
    "fig, (ax1) = plt.subplots(1,figsize=(10,10))\n",
    "\n",
    "\n",
    "%time forest_unswap_roc = plot_roc_curve(forest_unswap, x_test, y_test, ax=ax1, name=\"Forest Unswapped\")\n",
    "%time forest_swap_roc = plot_roc_curve(forest_swap, x_test, y_test, ax=ax1, name=\"Forest Swapped\")\n",
    "%time forest_smote_swap_roc = plot_roc_curve(forest_smote_swap, x_test, y_test, ax=ax1, name=\"Forest SMOTE Swapped\")\n",
    "%time forest_smote_unswap_roc = plot_roc_curve(forest_smote_unswap, x_test, y_test, ax=ax1, name=\"Forest SMOTE Unswapped\")\n",
    "\n",
    "\n",
    "%time plt.show()"
   ]
  },
  {
   "cell_type": "markdown",
   "metadata": {
    "cell_id": "00023-75f122ff-f3f2-43e1-b126-c4936837e98c",
    "deepnote_cell_type": "markdown"
   },
   "source": [
    "### 3b. Analyse the performance of the classifiers. Explain which method performs best."
   ]
  },
  {
   "cell_type": "markdown",
   "metadata": {},
   "source": [
    "**It is important for me to note that the results of the ROC curve analysis changed at the last minute during my last \"run through\" of the notebook. There was no time to retrain the models before the deadline, so a lot of my analysis is based on what you see here in this version. I am not entirely sure (deadline approaching) why this is the case. The previous versions of this notebook had different ROC curves, where SMOTE data was moderately to significantly better across all models. Additionally, these previous versions also showed that the rank-swapped data performed slightly to moderately worse than unswapped data. The results weren't staggering, but they were notable.**"
   ]
  },
  {
   "cell_type": "markdown",
   "metadata": {
    "cell_id": "00024-056f0c7e-b797-4d72-a69a-2c223dd70c7d",
    "deepnote_cell_type": "code",
    "deepnote_to_be_reexecuted": true,
    "execution_millis": 0,
    "execution_start": 1620304917027,
    "source_hash": "b623e53d"
   },
   "source": [
    "Of the three models, the \"best\" classifier is the Random Forest, of which the swapped, oversampled data (SMOTE) has the highest ROC score. Both the swapped, unswapped, and oversampled data all performed relatively similarly to each other. \n",
    "\n",
    "Next is the Stochastic Gradient Descent model, which has much poorer performance as described above. Finally, the K-nearest neighbors model performed poorly, both on swapped, unswapped, and oversampled data. The models were closely aligned with one another, but performed barely better than average (0.5 AUC). \n",
    "\n",
    "Across all three models, however, it is clear that oversampling the data has a positive effect.\n",
    "\n",
    "One could potentially improve the models by performing k-fold cross validation, with the notable caveat that folding time-series data could potentially have a negative effect on the model if the timing of the fraudulent transactions were of particular consequence. However, it could just as easily be posited that due to the low correlation between timing and fraudulent transactions (see heat maps above), it is unlikely with this dataset that timing of the transactions is of notable consequence."
   ]
  },
  {
   "cell_type": "markdown",
   "metadata": {
    "cell_id": "00025-5159f94c-96e6-4218-b290-ca1c379f88e0",
    "deepnote_cell_type": "markdown"
   },
   "source": [
    "### 3c. Can you explain the performance difference for the different classifiers? Is it advisable to protect people’s privacy using rank-swapping? Why (not)?"
   ]
  },
  {
   "cell_type": "markdown",
   "metadata": {
    "cell_id": "00026-e69d8436-8c09-4b78-82b9-9e2f678df133",
    "deepnote_cell_type": "code",
    "deepnote_to_be_reexecuted": true,
    "execution_millis": 0,
    "execution_start": 1620304917028,
    "source_hash": "b623e53d"
   },
   "source": [
    "In every single model tested, the unswapped data performed slightly worse than the swapped data, which is odd. This did not occur during the programming of this notebook, and only occurred at the end of the assignment, with ~1 hour until the deadline. Due to the training time involved, it was impossible for me to go back and figure out what was going on. In earlier iterations of this notebook, rank-swapped data performed slightly to significantly worse than unswapped data, across all models. \n",
    "\n",
    "**The following description below is based on previous results, where rank-swapped data was worse than unswapped data:**\n",
    "The decision to protect people's privacy using rank-swapping is of course a subjective discussion, however one could argue that certain models are more resilient to rank-swapping than others, and therefore efforts *could* be made to protect user privacy using rank-swapping. That being said, based on this analysis it is undeniable that rank-swapping had an adverse effect on the predictive power of the models, and the model must be carefully chosen and tuned if rank-swapping is going to be implemented."
   ]
  },
  {
   "cell_type": "markdown",
   "metadata": {
    "created_in_deepnote_cell": true,
    "deepnote_cell_type": "markdown",
    "tags": []
   },
   "source": [
    "<a style='text-decoration:none;line-height:16px;display:flex;color:#5B5B62;padding:10px;justify-content:end;' href='https://deepnote.com?utm_source=created-in-deepnote-cell&projectId=ad0f8f88-574f-4936-aedb-0b72571d8308' target=\"_blank\">\n",
    "<img alt='Created in deepnote.com' style='display:inline;max-height:16px;margin:0px;margin-right:7.5px;' src='data:image/svg+xml;base64,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' > </img>\n",
    "Created in <span style='font-weight:600;margin-left:4px;'>Deepnote</span></a>"
   ]
  }
 ],
 "metadata": {
  "deepnote": {},
  "deepnote_execution_queue": [],
  "deepnote_notebook_id": "c042d602-745c-4720-9490-7873d2f67b5f",
  "kernelspec": {
   "display_name": "Python 3",
   "language": "python",
   "name": "python3"
  },
  "language_info": {
   "codemirror_mode": {
    "name": "ipython",
    "version": 3
   },
   "file_extension": ".py",
   "mimetype": "text/x-python",
   "name": "python",
   "nbconvert_exporter": "python",
   "pygments_lexer": "ipython3",
   "version": "3.9.4"
  }
 },
 "nbformat": 4,
 "nbformat_minor": 2
}
